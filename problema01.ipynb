{
 "cells": [
  {
   "cell_type": "markdown",
   "id": "f550bbe2",
   "metadata": {},
   "source": [
    "# Problema\n",
    "Um painel solar térmico (superfície negra ideal) possui 3 vidros completamente transparentes para a radiação solar, e com absorvidade $a$ a para a radiação infravermelha. A Figura 1 mostra o diagrama de fluxos radiatvos desse painel.\n",
    "\n",
    "<img src=\"imgs/painel.png\" width=\"400px\" style=\"display: block; margin:auto\" />\n",
    "\n",
    "Admitindo que o sistema se encontra em equilíbrio radiativo (não existindo outros fluxos de energia para o exterior), note que os fluxos de radiação infravermelha emitida $(E0, E1, E2, E3)$ satisfazem o sistema de 4 equações:\n",
    "\n",
    "$$\n",
    "\\begin{align*}\n",
    "\\begin{cases}\n",
    "-E_0 + E_1 + (1-a)E_2 + (1-a)^2E_3+E_S &= 0 \\\\\n",
    "aE_0 - 2E_1 + aE_2 + a(1-a)E_3 &= 0 \\\\\n",
    "a(1-a)E_0 + aE_1 - 2E_2 + aE_3 &= 0 \\\\\n",
    "a(1-a)^2E_0 + a(1-a)E_1 + aE_2 - 2E_3 &= 0\n",
    "\\end{cases}\n",
    "\\end{align*}$$\n",
    "\n",
    "Calcule os fluxos emitidos pelas 4 superfícies, resolvendo o sistema de equações para o caso $a=0.8$, $E_S=500Wm^-2$. \n",
    "\n",
    "O sistema de equações lineares deve ser resolvido utilizando o método de Eliminação Gaussiana, sem e com pivotamento. "
   ]
  },
  {
   "cell_type": "markdown",
   "id": "78733127",
   "metadata": {},
   "source": [
    "# Solução"
   ]
  },
  {
   "cell_type": "markdown",
   "id": "8c6dfae9",
   "metadata": {},
   "source": [
    "### Importação das bibliotecas\n",
    "\n",
    "Para resolver o problema proposto, é útil que importemos funcionalidades de bibliotecas do Python que facilitam o processo de solução.\n",
    "O [NumPy](https://numpy.org/) é uma biblioteca de código aberto usada praticamente para todo problema matemático, pois providencia uma gama de funções e estruturas diversas."
   ]
  },
  {
   "cell_type": "code",
   "execution_count": 88,
   "id": "21daea03",
   "metadata": {},
   "outputs": [],
   "source": [
    "import numpy as np # Importa o módulo numpy e atribui o apelido de np para fácil referência posterio\n",
    "\n",
    "from IPython.display import display, Latex, Markdown # Funções de utilidade do IPython para desenhar cells do Jupyter Notebook.\n",
    "\n",
    "from furg_imef_verificador_respostas import Verificador\n",
    "\n",
    "def verificar_resposta(r):\n",
    "    verificador = Verificador()\n",
    "    verificador.verificar_resposta(r)\n"
   ]
  },
  {
   "cell_type": "markdown",
   "id": "9782cdcd",
   "metadata": {},
   "source": [
    "## Definição das informações do problema"
   ]
  },
  {
   "cell_type": "markdown",
   "id": "b4d16cb9",
   "metadata": {},
   "source": [
    "Substituindo no sistema de equações os valores para $a = 0.8$ e $E_S = 500$, obtemos o sistema de equações\n",
    "\n",
    "\\begin{align*}\n",
    "\\begin{cases}\n",
    "-E_0 + E_1 + 0.2E_2 + 0.04E_3    &= -500 \\\\\n",
    "0.8E_0 - 2E_1 + 0.8E_2 + 0.16E_3 &= 0 \\\\\n",
    "0.16E_0 + 0.8E_1 - 2E_2 + 0.8E_3 &= 0 \\\\\n",
    "0.032E_0 + 0.16E_1 + 0.8E_2 - 2E_3 &= 0\n",
    "\\end{cases}\n",
    "\\end{align*}\n",
    "\n",
    "De onde pode-se extrair a matriz de coeficientes e vetor de variáveis dependentes,\n",
    "\n",
    "\\begin{align*}\n",
    "A &=\n",
    "\\begin{bmatrix}\n",
    "-1 & 1 & 0.2 & 0.04 \\\\\n",
    "0.8 & -2 & 0.8 & 0.16 \\\\\n",
    "0.16 & 0.8 & -2 & 0.8 \\\\\n",
    "0.032 & 0.16 & 0.8 & -2\n",
    "\\end{bmatrix}\n",
    "\\end{align*}\n",
    "\n",
    "\\begin{align*}\n",
    "b &=\n",
    "\\begin{bmatrix}\n",
    "-500 \\\\ 0 \\\\ 0\\\\ 0\n",
    "\\end{bmatrix}\n",
    "\\end{align*}\n",
    "\n",
    "Em Python:"
   ]
  },
  {
   "cell_type": "code",
   "execution_count": 89,
   "id": "32ae8f76",
   "metadata": {},
   "outputs": [
    {
     "data": {
      "text/plain": [
       "array([[-1.   ,  1.   ,  0.2  ,  0.04 ],\n",
       "       [ 0.8  , -2.   ,  0.8  ,  0.16 ],\n",
       "       [ 0.16 ,  0.8  , -2.   ,  0.8  ],\n",
       "       [ 0.032,  0.16 ,  0.8  , -2.   ]])"
      ]
     },
     "metadata": {},
     "output_type": "display_data"
    },
    {
     "data": {
      "text/plain": [
       "[-500, 0, 0, 0]"
      ]
     },
     "metadata": {},
     "output_type": "display_data"
    }
   ],
   "source": [
    "a  = 0.8\n",
    "Es = 500\n",
    "A = np.array([\n",
    "    [-1, 1, (1-a), (1-a)**2],\n",
    "    [a, -2, a, a*(1-a)],\n",
    "    [a*(1-a), a, -2, a],\n",
    "    [a*(1-a)**2, a*(1-a), a, -2]\n",
    "])\n",
    "b = [-Es, 0, 0, 0]\n",
    "\n",
    "display(A, b)"
   ]
  },
  {
   "cell_type": "markdown",
   "id": "cd002e66",
   "metadata": {},
   "source": [
    "## Eliminação Gaussiana **sem** pivotamento\n",
    "\n",
    "### 1) Matriz triangular superior\n",
    "\n",
    "O primeiro passo da eliminação gaussiana sem pivotamento compreende em calcular a _[matriz triangular superior](https://pt.wikipedia.org/wiki/Matriz_triangular)_ da matriz. Um algoritmo simples para esse passo envolve somar toda linha $a_i$ abaixo da linha $a_j$ por um múltiplo $\\gamma$ de forma que:\n",
    "\n",
    "$$\n",
    "    a_{i,j} + \\gamma a_{j,j} = 0 \\Rightarrow\n",
    "    a_{i} := a_{i} + \\gamma a_{j} \\hspace{0.25cm} \\forall i > j\n",
    "$$\n",
    "\n",
    "Onde $j$ varia de $1$ a $m$ numa matriz $A_{m \\times n}$. \n"
   ]
  },
  {
   "cell_type": "code",
   "execution_count": 90,
   "id": "84ddab74",
   "metadata": {},
   "outputs": [],
   "source": [
    "\n",
    "def matriz_triangular_superior(M, ignorar_ultima_coluna=True):\n",
    "    \"\"\"\n",
    "        Calcula a matriz triangular superior da matriz M utilizando\n",
    "        um algoritmo simples da eliminação de Gauss\n",
    "\n",
    "        Parâmetros\n",
    "        ----------\n",
    "        M : np.array\n",
    "            Matriz inicial.\n",
    "        ignorar_ultima_coluna : bool\n",
    "            Determina se devemos ignorar a última coluna da matriz.\n",
    "\n",
    "        Retorno \n",
    "        ----------\n",
    "        np.array\n",
    "            Matriz na forma triangular superior.\n",
    "    \"\"\"\n",
    "    \n",
    "    # Criar cópia da matriz expandida\n",
    "    M = M.copy()\n",
    "    m = M.shape[0]\n",
    "    n = M.shape[1] # - (1 if ignorar_ultima_coluna else 0)\n",
    "    n = min(n, m)\n",
    "    \n",
    "    # Para cada coluna na matriz\n",
    "    for j in range(n):\n",
    "        # Selecionamos o pivô, como não há pivotamento, selecionamos os valores da diagonal\n",
    "        ajj = M[j, j]\n",
    "        \n",
    "        # Para cada linha i abaixo de j\n",
    "        for i in range(j+1, m):\n",
    "            # Selecionamos o valor da linha i na coluna j (abaixo de ajj)\n",
    "            aij = M[i, j]\n",
    "            \n",
    "            # Calculamos o múltiplo necessário do pivô ajj para que\n",
    "            # x * ajj + aij = 0\n",
    "            coeficiente = abs(aij) / ajj * -np.sign(aij)\n",
    "            \n",
    "            # Multiplicamos a linha inteira pelo coeficiente calculado\n",
    "            A_i = M[j,:]*coeficiente\n",
    "            \n",
    "            # Atualizamos o valor da linha para o novo valor, que \n",
    "            # deve ser 0 na posição aij\n",
    "            M[i, :] = M[i,:]+A_i\n",
    "            \n",
    "    return M"
   ]
  },
  {
   "cell_type": "markdown",
   "id": "f3b6a408",
   "metadata": {},
   "source": [
    "#### Testando a função"
   ]
  },
  {
   "cell_type": "code",
   "execution_count": 91,
   "id": "f45ca46e",
   "metadata": {},
   "outputs": [
    {
     "data": {
      "text/plain": [
       "array([[1, 2, 3],\n",
       "       [3, 2, 1],\n",
       "       [2, 1, 3]])"
      ]
     },
     "metadata": {},
     "output_type": "display_data"
    },
    {
     "data": {
      "text/plain": [
       "array([[ 1,  2,  3],\n",
       "       [ 0, -4, -8],\n",
       "       [ 0,  0,  3]])"
      ]
     },
     "metadata": {},
     "output_type": "display_data"
    }
   ],
   "source": [
    "# Você não precisa executar essa célula.\n",
    "M1 = np.array([[1, 2, 3], [3, 2, 1], [2, 1, 3]])\n",
    "M2 = matriz_triangular_superior(M1, True)\n",
    "\n",
    "\n",
    "display(M1, M2)"
   ]
  },
  {
   "cell_type": "markdown",
   "id": "cd7e2841",
   "metadata": {},
   "source": [
    "Tendo uma matriz nesse formato, já podemos resolver o problema. Tudo que precisamos é definir uma função que resolve matrizes de coeficientes expandidas com $b$ na última coluna. Para esse passo, no entanto, é preciso reduzir à matriz triangular a matriz expandida $[A|b]$."
   ]
  },
  {
   "cell_type": "code",
   "execution_count": 92,
   "id": "af9ad03e",
   "metadata": {},
   "outputs": [],
   "source": [
    "def resolver_U(U, b):\n",
    "    \"\"\"\n",
    "    Resolve um sistema de equações cuja matriz de coeficientes é triangular superiora.\n",
    "    \"\"\"\n",
    "    x = np.zeros(U.shape[1])\n",
    "    for i in reversed(range(U.shape[0])):\n",
    "        x[i]= ( b[i] - np.sum([U[i,j]*x[j] for j in range(i+1, U.shape[0])]) ) / U[i,i]\n",
    "    return x"
   ]
  },
  {
   "cell_type": "code",
   "execution_count": 99,
   "id": "132a57fc",
   "metadata": {},
   "outputs": [
    {
     "data": {
      "text/plain": [
       "array([[-1.0e+00,  1.0e+00,  2.0e-01,  4.0e-02, -5.0e+02],\n",
       "       [ 0.0e+00, -1.2e+00,  9.6e-01,  1.9e-01, -4.0e+02],\n",
       "       [ 0.0e+00,  0.0e+00, -1.2e+00,  9.6e-01, -4.0e+02],\n",
       "       [ 0.0e+00, -0.0e+00,  0.0e+00, -1.2e+00, -4.0e+02]])"
      ]
     },
     "metadata": {},
     "output_type": "display_data"
    },
    {
     "data": {
      "text/plain": [
       "'Ax = '"
      ]
     },
     "metadata": {},
     "output_type": "display_data"
    },
    {
     "data": {
      "text/plain": [
       "array([-500.,   -0.,    0.,   -0.])"
      ]
     },
     "metadata": {},
     "output_type": "display_data"
    },
    {
     "name": "stdout",
     "output_type": "stream",
     "text": [
      "Resposta correta!\n"
     ]
    }
   ],
   "source": [
    "# Expandir matriz de coeficientes com b.\n",
    "Ae = np.insert(A, A.shape[1], b, axis=1)\n",
    "Au = matriz_triangular_superior(Ae, True)\n",
    "\n",
    "display(np.round(Au, 2))\n",
    "x = resolver_U(Au[:, :-1], Au[:, -1])\n",
    "\n",
    "# Verificamos se nosso vetor de variáveis independentes\n",
    "# resultam em b\n",
    "display('Ax = ')\n",
    "display((A@x).round())\n",
    "\n",
    "# Ou podemos utilizar o verificador de respostas\n",
    "verificar_resposta(x)"
   ]
  },
  {
   "cell_type": "markdown",
   "id": "6f471500",
   "metadata": {},
   "source": [
    "> **NOTA** À primeira vista o vetor resultante de $Ax$ pode parecer não resultar em $b$, mas é necessário ressaltar que metodos computacionais para a resolução de sistemas em $R$ possuem graus de [imprecisão numérica](https://pt.wikipedia.org/wiki/V%C3%ADrgula_flutuante). Apesar de irrelevante com operações únicas, algoritmos com muitas operações acabam criando um efeito composto de imprecisões e o resultado pode cair consideravelmente longe do esperado. No caso desse resultado específico, pode-se observar que a imprecisão é muito pequena, mas ainda se faz presente. Onde intuitivamente esperaríamos o valor $0$, obtemos valores como $-2.27373675 \\times 10^{-13}$, $-1.13686838 \\times 10^{-13}$, etc. Por isso, geralmente arredondamos nossas respostas."
   ]
  },
  {
   "cell_type": "code",
   "execution_count": 69,
   "id": "cc1df8ee",
   "metadata": {},
   "outputs": [
    {
     "data": {
      "text/plain": [
       "array([-500.,   -0.,    0.,   -0.])"
      ]
     },
     "metadata": {},
     "output_type": "display_data"
    },
    {
     "data": {
      "text/plain": [
       "[-500, 0, 0, 0]"
      ]
     },
     "metadata": {},
     "output_type": "display_data"
    }
   ],
   "source": [
    "# Arredondando o resultado, podemos verificar que os dois valores\n",
    "# são praticamente idênticos.\n",
    "display(np.round(A@x,2))\n",
    "display(b)"
   ]
  },
  {
   "cell_type": "markdown",
   "id": "082ff9b5",
   "metadata": {},
   "source": [
    "### 2) Redução à forma de Gauss-Jordan\n",
    "É possível ir além com o algoritmo e obter uma matriz diagonal da nossa matriz inicial. Um algoritmo para reduzir a matriz triangular a uma matriz diagonal é simples e consiste na aplicação do algoritmo anterior em ordem inversa. Isto é, ao invés descermos a matriz diagonalmente e reduzirmos os valores abaixo de $a_{j,j}$ à zero, subimos no sentido contrário e reduzimos os valores acima de $a_{j,j}$ à zero. \n",
    "\n",
    "$$\n",
    "    a_{i,j} + \\gamma a_{j,j} = 0 \\Rightarrow\n",
    "    a_{i} := a_{i} + \\gamma a_{j} \\hspace{0.25cm} \\forall i < j\n",
    "$$\n",
    "\n",
    "Onde agora $j$ varia de $m$ a $1$.\n",
    "\n",
    "Se mantermos a matriz de variáveis dependentes na última coluna, podemos usá-la como $x$ na equação e obter a resposta."
   ]
  },
  {
   "cell_type": "code",
   "execution_count": 70,
   "id": "d966419e",
   "metadata": {},
   "outputs": [],
   "source": [
    "def matriz_triangular_para_diagonal(M):\n",
    "    # Criar cópia da matriz original\n",
    "    M = M.copy()\n",
    "    \n",
    "    # Dimensões da matriz\n",
    "    m = M.shape[0]\n",
    "    n = M.shape[1]\n",
    "    \n",
    "    # Iterar sobre toda coluna j da matriz, começando\n",
    "    # pelo valor mais baixo da sua diagonal.\n",
    "    # Aqui, a função reversed inverte o intervalo retornado\n",
    "    # por range.\n",
    "    for j in reversed(range(m)):\n",
    "        \n",
    "        # Selecionar o valor na matriz na posição (j, j),\n",
    "        # ou seja, na sua diagonal\n",
    "        ajj = M[j, j]\n",
    "        \n",
    "        # Multiplicar a linha por 1/ajj, para que\n",
    "        # o valor em (j,j) = 1\n",
    "        M[j] = M[j]*(1/ajj)\n",
    "        \n",
    "        # Atualizar ajj para o valor normalizado\n",
    "        ajj = M[j,j]\n",
    "        \n",
    "        # Observe que o intervalo retornado pela função range é \n",
    "        # aberto em relação a seu limite superior j, assim,\n",
    "        # o retorno da função reversed resulta em (j-0]\n",
    "        # logo, i varia de 0 a j-1 nesse loop.\n",
    "        for i in reversed(range(j)):  \n",
    "        # Para cada valor no intervalo (j-0]\n",
    "        \n",
    "            # Selecionamos o valor aij\n",
    "            aij = M[i, j]\n",
    "            \n",
    "            # Calculamos gamma, ou o coeficiente de ajj para que\n",
    "            # aij + ajj*gamma = 0\n",
    "            coeficiente = abs(aij) / ajj * -np.sign(aij)\n",
    "            \n",
    "            # aj * gamma\n",
    "            A_i = M[j]*coeficiente\n",
    "            \n",
    "            # Atualizar linha i com o novo valor\n",
    "            # ai + aj*gamma = 0\n",
    "            M[i] = M[i]+A_i\n",
    "    \n",
    "    return M"
   ]
  },
  {
   "cell_type": "code",
   "execution_count": 71,
   "id": "12aa8410",
   "metadata": {},
   "outputs": [],
   "source": [
    "Ad = matriz_triangular_para_diagonal(Au)\n",
    "x = Ad[:, -1]"
   ]
  },
  {
   "cell_type": "code",
   "execution_count": 72,
   "id": "f8e04a60",
   "metadata": {},
   "outputs": [
    {
     "data": {
      "text/plain": [
       "'Aplicando a função a Au obtemos:'"
      ]
     },
     "metadata": {},
     "output_type": "display_data"
    },
    {
     "data": {
      "text/plain": [
       "array([[ 1.00e+00, -0.00e+00, -0.00e+00, -0.00e+00,  1.50e+03],\n",
       "       [-0.00e+00,  1.00e+00, -0.00e+00, -0.00e+00,  8.67e+02],\n",
       "       [-0.00e+00,  0.00e+00,  1.00e+00, -0.00e+00,  6.00e+02],\n",
       "       [-0.00e+00,  0.00e+00, -0.00e+00,  1.00e+00,  3.33e+02]])"
      ]
     },
     "metadata": {},
     "output_type": "display_data"
    },
    {
     "data": {
      "text/plain": [
       "'x = '"
      ]
     },
     "metadata": {},
     "output_type": "display_data"
    },
    {
     "data": {
      "text/plain": [
       "array([1500.        ,  866.66666667,  600.        ,  333.33333333])"
      ]
     },
     "metadata": {},
     "output_type": "display_data"
    }
   ],
   "source": [
    "display('Aplicando a função a Au obtemos:')\n",
    "display(Ad.round())\n",
    "display('x = ')\n",
    "display(x)"
   ]
  },
  {
   "cell_type": "code",
   "execution_count": 73,
   "id": "744943c3",
   "metadata": {},
   "outputs": [
    {
     "name": "stdout",
     "output_type": "stream",
     "text": [
      "Resposta correta!\n"
     ]
    }
   ],
   "source": [
    "verificar_resposta(x)"
   ]
  },
  {
   "cell_type": "markdown",
   "id": "6c18ab92",
   "metadata": {},
   "source": [
    "## Pivotamento parcial e completo\n",
    "\n",
    "O algoritmo de eliminação Gaussiana sem pivotamento pode resultar em problemas de instabilidade numérica em função do cálculo do coeficiente que definimos como $\\gamma$. Como buscamos $$ a_{i,j} + \\gamma a_{j,j} = 0 $$ então $$ \\gamma = -\\frac{a_{i,j}}{a_{j,j}} $$\n",
    "\n",
    "Se $a_{j,j}$ é um valor muito pequeno, ou $0$, a divisão pode amplificar a imprecisão numérica, ou resultar numa indefinição. Para esses casos, o pivotamento ajuda a mitigar o problema reordenando a matriz em cada passo da eliminação Gassiana, para que $a_{j,j}$ seja o maior valor da matriz $a_{k, l}$ onde $k > j$, $l > j$.\n",
    "\n",
    "Para facilitar o processo primeiro implementamos funções para trocar duas linhas e duas colunas de uma matriz."
   ]
  },
  {
   "cell_type": "code",
   "execution_count": 74,
   "id": "62590629",
   "metadata": {},
   "outputs": [],
   "source": [
    "def trocar_linha(A, i, j):\n",
    "    \"\"\"\n",
    "    Troca a linha i pela linha j de uma matriz A\n",
    "    \"\"\"\n",
    "    # É importante copiar a linha, pois caso contrário\n",
    "    # linha_i é uma referência à matriz original,\n",
    "    # e alterar A[i] alteraria a linha_i também.\n",
    "    linha_i = A[i,:].copy()\n",
    "    A[i,:] = A[j,:]\n",
    "    A[j,:] = linha_i\n",
    "    return A\n",
    "\n",
    "def trocar_coluna(A, i, j):\n",
    "    \"\"\"\n",
    "    Troca a coluna i pela coluna j de uma matriz A\n",
    "    \"\"\"\n",
    "    linha_i = A[:, i].copy()\n",
    "    A[:, i] = A[:, j]\n",
    "    A[:, j] = linha_i\n",
    "    return A"
   ]
  },
  {
   "cell_type": "code",
   "execution_count": 75,
   "id": "65724cde",
   "metadata": {},
   "outputs": [
    {
     "data": {
      "text/plain": [
       "array([[1, 2, 3],\n",
       "       [2, 3, 1],\n",
       "       [3, 1, 2]])"
      ]
     },
     "metadata": {},
     "output_type": "display_data"
    },
    {
     "data": {
      "text/plain": [
       "'Trocando coluna 1 pela coluna 2:'"
      ]
     },
     "metadata": {},
     "output_type": "display_data"
    },
    {
     "data": {
      "text/plain": [
       "array([[2, 1, 3],\n",
       "       [3, 2, 1],\n",
       "       [1, 3, 2]])"
      ]
     },
     "metadata": {},
     "output_type": "display_data"
    },
    {
     "data": {
      "text/plain": [
       "'Trocando linha 2 pela linha 3:'"
      ]
     },
     "metadata": {},
     "output_type": "display_data"
    },
    {
     "data": {
      "text/plain": [
       "array([[2, 1, 3],\n",
       "       [1, 3, 2],\n",
       "       [3, 2, 1]])"
      ]
     },
     "metadata": {},
     "output_type": "display_data"
    }
   ],
   "source": [
    "m = np.array([[1, 2, 3], [2, 3, 1], [3, 1, 2]])\n",
    "display(m)\n",
    "display('Trocando coluna 1 pela coluna 2:')\n",
    "display(trocar_coluna(m, 0, 1))\n",
    "display('Trocando linha 2 pela linha 3:')\n",
    "display(trocar_linha(m,1,2))"
   ]
  },
  {
   "cell_type": "markdown",
   "id": "bd4efec1",
   "metadata": {},
   "source": [
    "### Pivotamento Parcial\n",
    "\n",
    "O pivotamento parcial é simples pois não envolve a reordenação das variáveis independentes dentro da matriz de coeficientes, e serve para a maioria dos casos. Para cada coeficiente na diagonal principal da matriz, escolhemos o maior valor na sua coluna entre ele e os valores abaixo."
   ]
  },
  {
   "cell_type": "code",
   "execution_count": 76,
   "id": "3fa3fa52",
   "metadata": {},
   "outputs": [],
   "source": [
    "def pivotamento_parcial(M, i):\n",
    "    valores_abaixo_do_pivo = M[i:, i]\n",
    "    indice_novo_pivo = np.argmax(np.abs(valores_abaixo_do_pivo))\n",
    "    linha = i+indice_novo_pivo\n",
    "    trocar_linha(M, i, linha)\n",
    "    return M"
   ]
  },
  {
   "cell_type": "code",
   "execution_count": 77,
   "id": "8fe69728",
   "metadata": {},
   "outputs": [],
   "source": [
    "def matriz_triangular_superior(M, pivotamento=False, log=False):\n",
    "    \"\"\"\n",
    "        Calcula a matriz triangular superior da matriz M utilizando\n",
    "        um algoritmo simples da eliminação de Gauss\n",
    "    \"\"\"\n",
    "    # Criar cópia da matriz expandida\n",
    "    A_new = M.copy()\n",
    "    m = A_new.shape[0]\n",
    "    n = A_new.shape[1]\n",
    "    \n",
    "    # Para cada coluna - 1 na matriz (ignoramos a coluna das variáveis dependentes)\n",
    "    for j in range(n-1):\n",
    "        \n",
    "        if log:\n",
    "            display('Estado atual da matriz:')\n",
    "            display(A_new.round(1))\n",
    "        \n",
    "        # Maximizar pivô\n",
    "        if pivotamento:\n",
    "            pivotamento_parcial(A_new, j)\n",
    "            \n",
    "        if log:\n",
    "            display('Resultado pivotamento:')\n",
    "            display(A_new.round(1))\n",
    "        \n",
    "        ajj = A_new[j, j]\n",
    "        \n",
    "        # Para cada linha i abaixo de j\n",
    "        for i in range(j+1, m):\n",
    "            # Selecionamos o valor da linha i na coluna j (abaixo de ajj)\n",
    "            aij = A_new[i, j]\n",
    "            \n",
    "            # Calculamos o múltiplo necessário do pivô ajj para que\n",
    "            # x * ajj + aij = 0\n",
    "            coeficiente = abs(aij) / ajj * -np.sign(aij)\n",
    "            \n",
    "            # Multiplicamos a linha inteira pelo coeficiente calculado\n",
    "            A_i = A_new[j,:]*coeficiente\n",
    "            \n",
    "            # Atualizamos o valor da linha para o novo valor, que \n",
    "            # deve ser 0 na posição aij\n",
    "            A_new[i] = A_new[i,:]+A_i\n",
    "            \n",
    "        if log:\n",
    "            display('Resultado:')\n",
    "            display(A_new.round(1))\n",
    "\n",
    "    return A_new\n"
   ]
  },
  {
   "cell_type": "code",
   "execution_count": 78,
   "id": "aa08ee72",
   "metadata": {},
   "outputs": [],
   "source": [
    "Ats = matriz_triangular_superior(Ae, True)\n",
    "\n",
    "# Podemos resolver como sistema de equações\n",
    "x = resolver_U(Ats[:, :-1], Ats[:, -1])\n",
    "\n",
    "# Ou reduzir a matriz escalonada para a forma de Gauss-Jordan.\n",
    "x = matriz_triangular_para_diagonal(Ats)[:, -1]"
   ]
  },
  {
   "cell_type": "markdown",
   "id": "184e3b71",
   "metadata": {},
   "source": [
    "Utilizando a função acima obtemos a matriz:"
   ]
  },
  {
   "cell_type": "code",
   "execution_count": 79,
   "id": "7926caba",
   "metadata": {},
   "outputs": [
    {
     "data": {
      "text/plain": [
       "array([[-1.0e+00,  1.0e+00,  2.0e-01,  4.0e-02, -5.0e+02],\n",
       "       [ 0.0e+00, -1.2e+00,  9.6e-01,  1.9e-01, -4.0e+02],\n",
       "       [ 0.0e+00,  0.0e+00, -1.2e+00,  9.6e-01, -4.0e+02],\n",
       "       [ 0.0e+00, -0.0e+00,  0.0e+00, -1.2e+00, -4.0e+02]])"
      ]
     },
     "metadata": {},
     "output_type": "display_data"
    }
   ],
   "source": [
    "display(Ats.round(2))"
   ]
  },
  {
   "cell_type": "markdown",
   "id": "82f14726",
   "metadata": {},
   "source": [
    "Podemos então resolver o sistema de equações e obter o vetor"
   ]
  },
  {
   "cell_type": "code",
   "execution_count": 80,
   "id": "8ef4585d",
   "metadata": {},
   "outputs": [
    {
     "data": {
      "text/plain": [
       "array([[1500.  ],\n",
       "       [ 866.67],\n",
       "       [ 600.  ],\n",
       "       [ 333.33]])"
      ]
     },
     "metadata": {},
     "output_type": "display_data"
    }
   ],
   "source": [
    "display(x.reshape(x.shape[0], 1).round(2))"
   ]
  },
  {
   "cell_type": "code",
   "execution_count": 81,
   "id": "c6907c00",
   "metadata": {},
   "outputs": [
    {
     "name": "stdout",
     "output_type": "stream",
     "text": [
      "Resposta correta!\n"
     ]
    }
   ],
   "source": [
    "verificar_resposta(x)"
   ]
  },
  {
   "cell_type": "markdown",
   "id": "62bad7e1",
   "metadata": {},
   "source": [
    "### Pivotamento Total\n",
    "\n",
    "O pivotamento total além de procurar abaixo do pivô atual um valor maior para ser novo pivô, procura também em outras colunas. No entanto, esse processo aumenta a complexidade do algoritmo por criar a necessidade de mantermos uma matriz de permutação que registra as trocas de colunas que fizemos.\n",
    "\n",
    "O motivo dessa complexidade é que, se descrevermos o sistema a ser solvido como\n",
    "\n",
    "$$\n",
    "\\begin{cases}\n",
    "a_{1,1}x_1 + a_{1,2}x_2 + \\dots + a_{1,m} = b_1 \\\\\n",
    "a_{2,1}x_1 + a_{2,2}x_2 + \\dots + a_{2,m} = b_2 \\\\\n",
    "\\dots \\\\\n",
    "a_{n,1}x_1 + a_{n,2}x_2 + \\dots + a_{n,m} = b_n\n",
    "\\end{cases}\n",
    "$$\n",
    "\n",
    "A troca de duas linhas não altera a ordem das variáveis independentes no nosso vetor $x$\n",
    "\n",
    "$$\n",
    "\\begin{cases}\n",
    "a_{2,1}x_1 + a_{2,2}x_2 + \\dots + a_{2,m} = b_2 \\\\\n",
    "a_{1,1}x_1 + a_{1,2}x_2 + \\dots + a_{1,m} = b_1 \\\\\n",
    "\\dots \\\\\n",
    "a_{n,1}x_1 + a_{n,2}x_2 + \\dots + a_{n,m} = b_n\n",
    "\\end{cases}\n",
    "$$\n",
    "\n",
    "Enquanto a troca de duas colunas resulta em\n",
    "\n",
    "$$\n",
    "\\begin{cases}\n",
    "a_{1,2}x_2 + a_{1,1}x_1 +  \\dots + a_{1,m} = b_1 \\\\\n",
    "a_{2,2}x_2 + a_{2,1}x_1 +  \\dots + a_{2,m} = b_2 \\\\\n",
    "\\dots \\\\\n",
    "a_{n,2}x_2 + a_{n,1}x_1 +  \\dots + a_{n,m} = b_n\n",
    "\\end{cases}\n",
    "$$\n",
    "\n",
    "Por fim, temos que nosso vetor de variáveis independentes pode ser expressado como\n",
    "\n",
    "$$\n",
    "x = Q_1Q_2 \\dots Q_n y  \n",
    "$$"
   ]
  },
  {
   "cell_type": "code",
   "execution_count": 82,
   "id": "51884597",
   "metadata": {},
   "outputs": [],
   "source": [
    "# Um cuidado necessário nessa implementação deve ser o de não considerar\n",
    "# a última coluna na busca pelo maior valor da matriz, pois esta contém\n",
    "# os valores de variáveis dependentes.\n",
    "def pivotamento_total(M, indice):\n",
    "    M_ = M[indice:, indice:-1]\n",
    "    Q  = np.eye(M.shape[0])\n",
    "\n",
    "    # Obtemos o índice do maior valor da matriz, dentro dos valores\n",
    "    # disponíveis para escolha, e calculamos as coordenadas\n",
    "    # do valor no formato da matriz.\n",
    "    v = np.argmax(np.abs(M_)) # Argmax retorna o índice de um array de dimensões 1 x m*n\n",
    "    i = int(np.floor(v/M_.shape[1]))\n",
    "    j = int(v - i*M_.shape[1])\n",
    "\n",
    "    # Movemos o pivô para a posição correta na matriz.\n",
    "    trocar_linha(M, indice, indice+i)\n",
    "    trocar_coluna(M, indice, indice+j)\n",
    "    \n",
    "    # Alteramos a matriz de permutação da mesma forma.\n",
    "    trocar_coluna(Q, indice, indice+j)\n",
    "\n",
    "    return Q\n"
   ]
  },
  {
   "cell_type": "code",
   "execution_count": 83,
   "id": "159eca6f",
   "metadata": {},
   "outputs": [],
   "source": [
    "\n",
    "def matriz_triangular_superior(M, pivotamento=False, log=False):\n",
    "    # Criar cópia da matriz expandida\n",
    "    A_new = M.copy()\n",
    "    m = A_new.shape[0]\n",
    "    n = A_new.shape[1]\n",
    "\n",
    "    Q = np.eye(m)\n",
    "    \n",
    "    # Para cada coluna - 1 na matriz (ignoramos a coluna das variáveis dependentes)\n",
    "    for j in range(n-1):\n",
    "        \n",
    "        if log:\n",
    "            display('Estado atual da matriz:')\n",
    "            display(A_new.round(1))\n",
    "        \n",
    "        # Maximizar pivô\n",
    "        if pivotamento:\n",
    "            Qi = pivotamento_total(A_new, j)\n",
    "            Q = Q @ Qi\n",
    "            \n",
    "        if log:\n",
    "            display('Resultado pivotamento:')\n",
    "            display(A_new.round(1))\n",
    "        \n",
    "        ajj = A_new[j, j]\n",
    "        \n",
    "        # Para cada linha i abaixo de j\n",
    "        for i in range(j+1, m):\n",
    "            # Selecionamos o valor da linha i na coluna j (abaixo de ajj)\n",
    "            aij = A_new[i, j]\n",
    "            \n",
    "            # Calculamos o múltiplo necessário do pivô ajj para que\n",
    "            # x * ajj + aij = 0\n",
    "            coeficiente = abs(aij) / ajj * -np.sign(aij)\n",
    "            \n",
    "            # Multiplicamos a linha inteira pelo coeficiente calculado\n",
    "            A_i = A_new[j,:]*coeficiente\n",
    "            \n",
    "            # Atualizamos o valor da linha para o novo valor, que \n",
    "            # deve ser 0 na posição aij\n",
    "            A_new[i] = A_new[i,:]+A_i\n",
    "            \n",
    "        if log:\n",
    "            display('Resultado:')\n",
    "            display(A_new.round(1))\n",
    "\n",
    "    return A_new, Q\n"
   ]
  },
  {
   "cell_type": "code",
   "execution_count": 84,
   "id": "8c528170",
   "metadata": {},
   "outputs": [],
   "source": [
    "Au, Q = matriz_triangular_superior(Ae, True)"
   ]
  },
  {
   "cell_type": "code",
   "execution_count": 85,
   "id": "dbcda2fb",
   "metadata": {},
   "outputs": [
    {
     "data": {
      "text/plain": [
       "'Au = '"
      ]
     },
     "metadata": {},
     "output_type": "display_data"
    },
    {
     "data": {
      "text/plain": [
       "array([[  -2.,    0.,    1.,    1.,    0.],\n",
       "       [   0.,   -2.,    1.,    0.,    0.],\n",
       "       [   0.,    0.,   -1.,    1.,    0.],\n",
       "       [   0.,    0.,    0.,   -0., -500.]])"
      ]
     },
     "metadata": {},
     "output_type": "display_data"
    },
    {
     "data": {
      "text/plain": [
       "'Q = '"
      ]
     },
     "metadata": {},
     "output_type": "display_data"
    },
    {
     "data": {
      "text/plain": [
       "array([[0., 0., 0., 1.],\n",
       "       [1., 0., 0., 0.],\n",
       "       [0., 0., 1., 0.],\n",
       "       [0., 1., 0., 0.]])"
      ]
     },
     "metadata": {},
     "output_type": "display_data"
    }
   ],
   "source": [
    "display('Au = ')\n",
    "display(Au.round(0))\n",
    "display('Q = ')\n",
    "display(Q)"
   ]
  },
  {
   "cell_type": "markdown",
   "id": "0236a8cc",
   "metadata": {},
   "source": [
    "Obtemos a resposta resolvendo o sistema de equações como antes, mas agora multiplicamos o vetor $x$ resultante pela matriz de permutação calculada."
   ]
  },
  {
   "cell_type": "code",
   "execution_count": 86,
   "id": "1108a319",
   "metadata": {},
   "outputs": [
    {
     "name": "stdout",
     "output_type": "stream",
     "text": [
      "Resposta correta!\n"
     ]
    }
   ],
   "source": [
    "# Podemos resolver por substituição\n",
    "x = resolver_U(Au[:, :-1], Au[:, -1])\n",
    "\n",
    "# Ou reduzir a matriz.\n",
    "x = matriz_triangular_para_diagonal(Au)[:, -1]\n",
    "\n",
    "# E então reordenar as variáveis independentes.\n",
    "x = Q@x\n",
    "\n",
    "verificar_resposta(x)"
   ]
  }
 ],
 "metadata": {
  "interpreter": {
   "hash": "916dbcbb3f70747c44a77c7bcd40155683ae19c65e1c03b4aa3499c5328201f1"
  },
  "kernelspec": {
   "display_name": "Python 3",
   "language": "python",
   "name": "python3"
  },
  "language_info": {
   "codemirror_mode": {
    "name": "ipython",
    "version": 3
   },
   "file_extension": ".py",
   "mimetype": "text/x-python",
   "name": "python",
   "nbconvert_exporter": "python",
   "pygments_lexer": "ipython3",
   "version": "3.8.10"
  }
 },
 "nbformat": 4,
 "nbformat_minor": 5
}
